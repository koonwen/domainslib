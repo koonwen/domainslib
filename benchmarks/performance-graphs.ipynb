{
 "cells": [
  {
   "cell_type": "code",
   "execution_count": 61,
   "id": "23df54ae-deb3-46ee-a7d9-d136fe0d12a0",
   "metadata": {},
   "outputs": [],
   "source": [
    "import pandas as pd\n",
    "import matplotlib.pyplot as plt\n",
    "from tqdm.notebook import tqdm"
   ]
  },
  {
   "cell_type": "code",
   "execution_count": 4,
   "id": "f1f6145a-3c57-4558-81d6-5bb29f9e43b5",
   "metadata": {},
   "outputs": [],
   "source": [
    "import subprocess"
   ]
  },
  {
   "cell_type": "code",
   "execution_count": 79,
   "id": "7b70c0b2-7ae7-4854-916b-4df851cc582c",
   "metadata": {},
   "outputs": [],
   "source": [
    "def run_process(name, no_iters=5, count=1_000_000, domains=16, validate=False):\n",
    "    cmd = [\"../_build/default/benchmarks/bench.exe\", name, \"-D\", str(domains), \"--no-iter\", str(no_iters), \"--count\", str(count)]\n",
    "    if validate:\n",
    "        cmd += \"-T\"\n",
    "    result = subprocess.run(cmd, capture_output=True)\n",
    "    [time, _, var] = result.stdout.decode(\"utf-8\").split()\n",
    "    time = time.removesuffix(\"s\").strip()\n",
    "    var = var.removesuffix(\"s\").strip()\n",
    "    print(f\"time for {name} with {count} inserts was {time} +- {var}\")\n",
    "    return float(time), float(var)"
   ]
  },
  {
   "cell_type": "code",
   "execution_count": 80,
   "id": "d130e669-61ed-4696-9030-24ca2444d7a2",
   "metadata": {},
   "outputs": [
    {
     "name": "stdout",
     "output_type": "stream",
     "text": [
      "time for btree-coarse with 100 inserts was 0.00021 +- 0.00008\n"
     ]
    },
    {
     "data": {
      "text/plain": [
       "(0.00021, 8e-05)"
      ]
     },
     "execution_count": 80,
     "metadata": {},
     "output_type": "execute_result"
    }
   ],
   "source": [
    "run_process(\"btree-coarse\", count=100)"
   ]
  },
  {
   "cell_type": "code",
   "execution_count": 81,
   "id": "deafaa36-73e9-4181-9bf4-6cee97d365ce",
   "metadata": {},
   "outputs": [
    {
     "data": {
      "application/vnd.jupyter.widget-view+json": {
       "model_id": "a66627962e7648b6abb4e0e37663e5dc",
       "version_major": 2,
       "version_minor": 0
      },
      "text/plain": [
       "  0%|          | 0/15 [00:00<?, ?it/s]"
      ]
     },
     "metadata": {},
     "output_type": "display_data"
    },
    {
     "name": "stdout",
     "output_type": "stream",
     "text": [
      "time for btree-batched with 100000 inserts was 0.20259 +- 0.01006\n",
      "time for btree-coarse with 100000 inserts was 0.16116 +- 0.00594\n",
      "time for btree-sequential with 100000 inserts was 0.11638 +- 0.00391\n",
      "time for btree-batched with 100000 inserts was 0.19307 +- 0.01639\n",
      "time for btree-coarse with 100000 inserts was 0.21511 +- 0.00770\n",
      "time for btree-sequential with 100000 inserts was 0.12194 +- 0.00347\n",
      "time for btree-batched with 100000 inserts was 0.20562 +- 0.01090\n",
      "time for btree-coarse with 100000 inserts was 0.27809 +- 0.02461\n",
      "time for btree-sequential with 100000 inserts was 0.13268 +- 0.00572\n",
      "time for btree-batched with 100000 inserts was 0.18571 +- 0.00213\n",
      "time for btree-coarse with 100000 inserts was 0.26034 +- 0.02716\n",
      "time for btree-sequential with 100000 inserts was 0.12126 +- 0.00251\n",
      "time for btree-batched with 100000 inserts was 0.18221 +- 0.00936\n",
      "time for btree-coarse with 100000 inserts was 0.25672 +- 0.02037\n",
      "time for btree-sequential with 100000 inserts was 0.11710 +- 0.00319\n",
      "time for btree-batched with 100000 inserts was 0.18230 +- 0.01443\n",
      "time for btree-coarse with 100000 inserts was 0.26029 +- 0.01385\n",
      "time for btree-sequential with 100000 inserts was 0.12562 +- 0.00647\n",
      "time for btree-batched with 100000 inserts was 0.18795 +- 0.01260\n",
      "time for btree-coarse with 100000 inserts was 0.30783 +- 0.04871\n",
      "time for btree-sequential with 100000 inserts was 0.11892 +- 0.00316\n",
      "time for btree-batched with 100000 inserts was 0.18416 +- 0.02245\n",
      "time for btree-coarse with 100000 inserts was 0.27033 +- 0.02663\n",
      "time for btree-sequential with 100000 inserts was 0.12411 +- 0.00408\n",
      "time for btree-batched with 100000 inserts was 0.19471 +- 0.00210\n",
      "time for btree-coarse with 100000 inserts was 0.28839 +- 0.05089\n",
      "time for btree-sequential with 100000 inserts was 0.12521 +- 0.00542\n",
      "time for btree-batched with 100000 inserts was 0.18864 +- 0.01462\n",
      "time for btree-coarse with 100000 inserts was 0.25221 +- 0.02165\n",
      "time for btree-sequential with 100000 inserts was 0.11884 +- 0.00517\n",
      "time for btree-batched with 100000 inserts was 0.18223 +- 0.01145\n",
      "time for btree-coarse with 100000 inserts was 0.27018 +- 0.05688\n",
      "time for btree-sequential with 100000 inserts was 0.11954 +- 0.00344\n",
      "time for btree-batched with 100000 inserts was 0.18054 +- 0.00599\n",
      "time for btree-coarse with 100000 inserts was 0.28134 +- 0.02251\n",
      "time for btree-sequential with 100000 inserts was 0.12020 +- 0.00201\n",
      "time for btree-batched with 100000 inserts was 0.19249 +- 0.01492\n",
      "time for btree-coarse with 100000 inserts was 0.26687 +- 0.02184\n",
      "time for btree-sequential with 100000 inserts was 0.12092 +- 0.00217\n",
      "time for btree-batched with 100000 inserts was 0.19868 +- 0.00558\n",
      "time for btree-coarse with 100000 inserts was 0.31453 +- 0.03987\n",
      "time for btree-sequential with 100000 inserts was 0.12854 +- 0.00700\n",
      "time for btree-batched with 100000 inserts was 0.18347 +- 0.01151\n",
      "time for btree-coarse with 100000 inserts was 0.28309 +- 0.00731\n",
      "time for btree-sequential with 100000 inserts was 0.13356 +- 0.00687\n"
     ]
    }
   ],
   "source": [
    "results = []\n",
    "count = 100_000\n",
    "for i in tqdm(range(1, 16)):\n",
    "    time_batched,var_batched = run_process(\"btree-batched\", count=count, domains=i)\n",
    "    time_coarse, var_coarse = run_process(\"btree-coarse\", count=count, domains=i)\n",
    "    time_sequential, var_sequential = run_process(\"btree-sequential\", count=count, domains=i)\n",
    "    results.append({\n",
    "        'domains': i,\n",
    "        'batched': time_batched, 'batched_var': var_batched,\n",
    "        'coarse': time_coarse, 'coarse_var': var_coarse,\n",
    "        'sequential': time_sequential, 'sequential_var': var_sequential\n",
    "    })"
   ]
  },
  {
   "cell_type": "code",
   "execution_count": 82,
   "id": "a9502b8d-b8aa-463b-9d49-bb031384595a",
   "metadata": {},
   "outputs": [],
   "source": [
    "times = [data['domains'] for data in results]\n",
    "batched = [data['batched'] for data in results]\n",
    "coarse = [data['coarse'] for data in results]\n",
    "sequential = [data['sequential'] for data in results]"
   ]
  },
  {
   "cell_type": "code",
   "execution_count": 83,
   "id": "7fbdb3ba-03f3-4bbc-9120-cbefe4b860ad",
   "metadata": {},
   "outputs": [
    {
     "data": {
      "image/png": "[encoded data removed]",
      "text/plain": [
       "<Figure size 432x288 with 1 Axes>"
      ]
     },
     "metadata": {
      "needs_background": "light"
     },
     "output_type": "display_data"
    }
   ],
   "source": [
    "plt.plot(times, batched, label='batched')\n",
    "plt.plot(times, coarse, label='coarse')\n",
    "plt.plot(times, sequential, label='sequential')\n",
    "plt.title('BTree comparison 100_000 elements')\n",
    "plt.xlabel('no. domains')\n",
    "plt.ylabel('time (s)')\n",
    "plt.legend()\n",
    "plt.show()"
   ]
  },
  {
   "cell_type": "code",
   "execution_count": null,
   "id": "a9e39e39-4f64-4b07-94fe-f46ced56178a",
   "metadata": {},
   "outputs": [],
   "source": []
  }
 ],
 "metadata": {
  "kernelspec": {
   "display_name": "Python 3 (ipykernel)",
   "language": "python",
   "name": "python3"
  },
  "language_info": {
   "codemirror_mode": {
    "name": "ipython",
    "version": 3
   },
   "file_extension": ".py",
   "mimetype": "text/x-python",
   "name": "python",
   "nbconvert_exporter": "python",
   "pygments_lexer": "ipython3",
   "version": "3.9.13"
  }
 },
 "nbformat": 4,
 "nbformat_minor": 5
}
