{
 "cells": [
  {
   "cell_type": "code",
   "execution_count": null,
   "id": "38d8b2e7-0b69-4039-a6ed-6089fed342a0",
   "metadata": {},
   "outputs": [],
   "source": [
    "import pandas as pd\n",
    "import matplotlib.pyplot as plt\n",
    "from tqdm.notebook import tqdm"
   ]
  },
  {
   "cell_type": "markdown",
   "id": "a3b0d48b-f958-4356-8881-7a1365bf90da",
   "metadata": {},
   "source": [
    "We have a utility library that provides helpers for conducting experiments, plotting results and dumping to file.\n",
    "\n",
    "- `utils.plot_results(param, data_structures, results)` will construct a plot of experiment times with `param` varying along the x-axis (for these experiments, this is usually `domains`)\n",
    "- `utils.plot_throughput_results(param, data_structures, results)` will construct a plot of throughput, with the same semantics as above"
   ]
  },
  {
   "cell_type": "code",
   "execution_count": null,
   "id": "0429cafd-ef15-4eea-9cfc-c5874b5f5255",
   "metadata": {},
   "outputs": [],
   "source": [
    "from importlib import reload\n",
    "import utils\n",
    "reload(utils)"
   ]
  },
  {
   "cell_type": "markdown",
   "id": "d095c8fa",
   "metadata": {
    "tags": []
   },
   "source": [
    "## Skiplist\n",
    "We declare the parameters for the skip list as follows:"
   ]
  },
  {
   "cell_type": "code",
   "execution_count": null,
   "id": "18ccc5a8",
   "metadata": {},
   "outputs": [],
   "source": [
    "skiplist_init_count = 2_000_000"
   ]
  },
  {
   "cell_type": "markdown",
   "id": "01963e09",
   "metadata": {
    "tags": []
   },
   "source": [
    "### Inserts\n",
    "We will evaluate the performance of the skip list as we change the number of cores:"
   ]
  },
  {
   "cell_type": "code",
   "execution_count": null,
   "id": "5809cfbf",
   "metadata": {},
   "outputs": [],
   "source": [
    "%matplotlib widget\n",
    "fig, ax = utils.interactive_plot()"
   ]
  },
  {
   "cell_type": "code",
   "execution_count": null,
   "id": "93beba62",
   "metadata": {},
   "outputs": [],
   "source": [
    "data_structures = [\n",
    "    {'name': 'skiplist-sequential', 'label': 'skiplist-sequential', 'title': 'Skiplist (Sequential)'},\n",
    "    {'name': 'skiplist-batched', 'label': 'skiplist-batched', 'title': 'Skiplist (Batched)'},\n",
    "     {'name': 'skiplist-coarse', 'label': 'skiplist-coarse', 'title': 'Skiplist (Coarse grained)'},\n",
    "    {'name': 'set-coarse-grained', 'label': 'set-coarse', 'title': 'Vanilla Set (Coarse grained)'},\n",
    "    {'name': 'skiplist-fine', 'label': 'skiplist-fine', 'title': 'Skiplist (Fine Grained)'}\n",
    "]\n",
    "\n",
    "_,  results = utils.build_interactive_plot(fig, ax, data_structures,       \n",
    "    {'count': 1_000_000, 'init_count': skiplist_init_count})"
   ]
  },
  {
   "cell_type": "markdown",
   "id": "23540030",
   "metadata": {
    "tags": []
   },
   "source": [
    "### Searches\n",
    "\n",
    "We evaluate the performance of searches as well as we change the number of cores"
   ]
  },
  {
   "cell_type": "code",
   "execution_count": null,
   "id": "09c3e01c",
   "metadata": {},
   "outputs": [],
   "source": [
    "%matplotlib widget\n",
    "fig, ax = utils.interactive_plot()"
   ]
  },
  {
   "cell_type": "code",
   "execution_count": null,
   "id": "fc4ea9c3",
   "metadata": {},
   "outputs": [],
   "source": [
    "data_structures = [\n",
    "    {'name': 'skiplist-sequential', 'label': 'skiplist-sequential', 'title': 'Skiplist (Sequential)'},\n",
    "    {'name': 'skiplist-batched', 'label': 'skiplist-batched', 'title': 'Skiplist (Batched)'},\n",
    "     {'name': 'skiplist-coarse', 'label': 'skiplist-coarse', 'title': 'Skiplist (Coarse grained)'},\n",
    "    {'name': 'set-coarse-grained', 'label': 'set-coarse', 'title': 'Vanilla Set (Coarse grained)'},\n",
    "    {'name': 'skiplist-fine', 'label': 'skiplist-fine', 'title': 'Skiplist (Fine Grained)'}\n",
    "]\n",
    "\n",
    "_,  results = utils.build_interactive_plot(fig, ax, data_structures, {'count': 0, 'no_searches': 1_000_000, 'init_count': skiplist_init_count})"
   ]
  },
  {
   "cell_type": "markdown",
   "id": "950d4aa8-8c73-4a58-b17e-4fd3a6bd5820",
   "metadata": {},
   "source": [
    "### All Results At once\n",
    "\n",
    "Everything everywhere all at once:"
   ]
  },
  {
   "cell_type": "code",
   "execution_count": null,
   "id": "8251114b-f9ad-4b1a-86c3-e6ed5042863d",
   "metadata": {},
   "outputs": [],
   "source": [
    "skiplist_init_count = 2_000_000\n",
    "skiplist_workload_count = 1_000_000\n",
    "majority_reads_searches, majority_reads_inserts = int(0.9 * skiplist_workload_count), int(0.1 * skiplist_workload_count)\n",
    "equal_reads_searches, equal_reads_inserts = int(0.5 * skiplist_workload_count), int(0.5 * skiplist_workload_count)\n",
    "\n",
    "data_structures = [\n",
    "    {'name': 'skiplist-sequential', 'label': 'skiplist-sequential', 'title': 'Skiplist (Sequential)'},\n",
    "    {'name': 'skiplist-batched', 'label': 'skiplist-batched', 'title': 'Skiplist (Batched)'},\n",
    "     {'name': 'skiplist-coarse', 'label': 'skiplist-coarse', 'title': 'Skiplist (Coarse grained)'},\n",
    "    {'name': 'set-coarse-grained', 'label': 'set-coarse', 'title': 'Vanilla Set (Coarse grained)'},\n",
    "    {'name': 'skiplist-fine', 'label': 'skiplist-fine', 'title': 'Skiplist (Fine Grained)'}\n",
    "]\n",
    "\n",
    "\n",
    "for name, count, no_searches in [\n",
    "    (\"inserts\", skiplist_workload_count, 0),\n",
    "    (\"searches\", 0, skiplist_workload_count),\n",
    "    (\"majority-reads\", majority_reads_inserts, majority_reads_searches),\n",
    "    (\"equal-reads\", equal_reads_inserts, equal_reads_searches)\n",
    "]:   \n",
    "    results = utils.build_results(data_structures, {'count': count, 'no_searches': no_searches, 'init_count': skiplist_init_count})\n",
    "    dump_results_to_file(f'skiplist-{name}-results.csv', results)"
   ]
  },
  {
   "cell_type": "markdown",
   "id": "6a03f650-29ac-4bc9-b94f-91791fb3cf11",
   "metadata": {
    "tags": []
   },
   "source": [
    "## Btree\n",
    "\n",
    "We declare the parameters for the B-tree as follows:"
   ]
  },
  {
   "cell_type": "code",
   "execution_count": null,
   "id": "b302dd0d-007e-4c1a-98ee-9cfb0da8f8d5",
   "metadata": {},
   "outputs": [],
   "source": [
    "btree_branching_factor = 6\n",
    "btree_init_count = 2_000_000"
   ]
  },
  {
   "cell_type": "markdown",
   "id": "316de9e2-400a-4bbc-9bb0-2b002fdfd2a5",
   "metadata": {},
   "source": [
    "We define a utility function to dump results:"
   ]
  },
  {
   "cell_type": "markdown",
   "id": "3c1431c6-d0e9-4b4f-81d4-69b2974581ee",
   "metadata": {
    "tags": []
   },
   "source": [
    "### Inserts\n",
    "\n",
    "We will evaluate the performance of the B-tree as we change the number of cores:"
   ]
  },
  {
   "cell_type": "code",
   "execution_count": null,
   "id": "14c3881e-3a61-417d-a11d-8bbbf73827ae",
   "metadata": {},
   "outputs": [],
   "source": [
    "%matplotlib widget\n",
    "fig, ax = utils.interactive_plot()"
   ]
  },
  {
   "cell_type": "code",
   "execution_count": null,
   "id": "4c9d6d31-5893-4854-a709-ce659c311493",
   "metadata": {},
   "outputs": [],
   "source": [
    "data_structures = [\n",
    "    {'name': 'btree-sequential', 'label':'btree-sequential', 'title': 'B-tree (Sequential)', 'branching_factor': btree_branching_factor},\n",
    "    {'name': 'btree-batched', 'label': 'btree-batched', 'title': 'B-tree (Batched)', 'branching_factor': btree_branching_factor},\n",
    "    {'name': 'btree-coarse', 'label': 'btree-coarse', 'title': 'B-tree (Coarse-grained)', 'branching_factor': btree_branching_factor},\n",
    "    {'name': 'map-coarse', 'label': 'map-coarse', 'title': 'Map (Coarse-grained)' }\n",
    "]\n",
    "\n",
    "_,  results = utils.build_interactive_plot(fig, ax, data_structures, {'count': 100, 'init_count': btree_init_count})"
   ]
  },
  {
   "cell_type": "markdown",
   "id": "5fb2cd85-2805-4fc2-abb6-7cf8cc7608de",
   "metadata": {
    "tags": []
   },
   "source": [
    "### Searches\n",
    "\n",
    "We evaluate the performance of searches as well as we change the number of cores"
   ]
  },
  {
   "cell_type": "code",
   "execution_count": null,
   "id": "2d82c7eb-f94e-49d0-bd1b-b69fbc0ea13b",
   "metadata": {},
   "outputs": [],
   "source": [
    "%matplotlib widget\n",
    "fig, ax = utils.interactive_plot()"
   ]
  },
  {
   "cell_type": "code",
   "execution_count": null,
   "id": "94033c0e-2a24-4478-8aee-04e9aeced0de",
   "metadata": {},
   "outputs": [],
   "source": [
    "data_structures = [\n",
    "    {'name': 'btree-sequential', 'label':'btree-sequential', 'title': 'B-tree (Sequential)', 'branching_factor': btree_branching_factor},\n",
    "    {'name': 'btree-batched', 'label': 'btree-batched', 'title': 'B-tree (Batched)', 'branching_factor': btree_branching_factor},\n",
    "    {'name': 'btree-coarse', 'label': 'btree-coarse', 'title': 'B-tree (Coarse-grained)', 'branching_factor': btree_branching_factor},\n",
    "    {'name': 'map-coarse', 'label': 'map-coarse', 'title': 'Map (Coarse-grained)' }\n",
    "]\n",
    "\n",
    "_,  results = utils.build_interactive_plot(fig, ax, data_structures, {'count': 0, 'no_searches': 1_000_000, 'init_count': btree_init_count})"
   ]
  },
  {
   "cell_type": "markdown",
   "id": "cef63fe8-7bde-4c70-985c-a237086b0411",
   "metadata": {
    "tags": []
   },
   "source": [
    "### Diverse Workloads\n",
    "\n",
    "- 90% reads \n",
    "- 50% reads"
   ]
  },
  {
   "cell_type": "code",
   "execution_count": null,
   "id": "5d828e9c-a3aa-401b-80e9-655effdf9ad9",
   "metadata": {},
   "outputs": [],
   "source": [
    "majority_reads_searches, majority_reads_inserts = int(0.9 * 1_000_000), int(0.1 * 1_000_000)\n",
    "equal_reads_searches, equal_reads_inserts = int(0.5 * 1_000_000), int(0.5 * 1_000_000)"
   ]
  },
  {
   "cell_type": "code",
   "execution_count": null,
   "id": "93e2a777",
   "metadata": {},
   "outputs": [],
   "source": [
    "data_structures = [\n",
    "    {'name': 'skiplist-sequential', 'label': 'skiplist-sequential', 'title': 'Skiplist (Sequential)'},\n",
    "    {'name': 'skiplist-batched', 'label': 'skiplist-batched', 'title': 'Skiplist (Batched)'},\n",
    "     {'name': 'skiplist-coarse', 'label': 'skiplist-coarse', 'title': 'Skiplist (Coarse grained)'},\n",
    "    {'name': 'set-coarse-grained', 'label': 'set-coarse', 'title': 'Vanilla Set (Coarse grained)'},\n",
    "    {'name': 'skiplist-fine', 'label': 'skiplist-fine', 'title': 'Skiplist (Fine Grained)'}\n",
    "]\n",
    "\n",
    "majority_reads_results = utils.build_results(data_structures, {'count': majority_reads_inserts, 'no_searches': majority_reads_searches, 'init_count': btree_init_count})\n",
    "\n",
    "equal_reads_results = utils.build_results(data_structures, {'count': equal_reads_inserts, 'no_searches': equal_reads_searches, 'init_count': btree_init_count})"
   ]
  },
  {
   "cell_type": "markdown",
   "id": "81e59c85-a39e-498b-a8fa-f9d5da36110f",
   "metadata": {},
   "source": [
    "### All results at Once"
   ]
  },
  {
   "cell_type": "code",
   "execution_count": null,
   "id": "673767e0-b0a1-4fd9-afaa-00df758d2a54",
   "metadata": {},
   "outputs": [],
   "source": [
    "calculated_results = []"
   ]
  },
  {
   "cell_type": "code",
   "execution_count": null,
   "id": "67072d91-5416-4e69-90f7-d4bcd4f0f61e",
   "metadata": {},
   "outputs": [],
   "source": [
    "btree_workload_count = 1_000_000\n",
    "majority_reads_searches, majority_reads_inserts = int(0.9 * btree_workload_count), int(0.1 * btree_workload_count)\n",
    "equal_reads_searches, equal_reads_inserts = int(0.5 * btree_workload_count), int(0.5 * btree_workload_count)\n",
    "\n",
    "data_structures = [\n",
    "    {'name': 'btree-sequential', 'label':'btree-sequential', 'title': 'B-tree (Sequential)', 'branching_factor': btree_branching_factor},\n",
    "    {'name': 'btree-batched', 'label': 'btree-batched', 'title': 'B-tree (Batched)', 'branching_factor': btree_branching_factor},\n",
    "    {'name': 'btree-coarse', 'label': 'btree-coarse', 'title': 'B-tree (Coarse-grained)', 'branching_factor': btree_branching_factor},\n",
    "    {'name': 'map-coarse', 'label': 'map-coarse', 'title': 'Map (Coarse-grained)' }\n",
    "]\n",
    "\n",
    "\n",
    "for name, count, no_searches in [\n",
    "    (\"inserts\", btree_workload_count, 0),\n",
    "    (\"searches\", 0, btree_workload_count),\n",
    "    (\"majority-reads\", majority_reads_inserts, majority_reads_searches),\n",
    "    (\"equal-reads\", equal_reads_inserts, equal_reads_searches)\n",
    "]:   \n",
    "    results = utils.build_results(data_structures, {'count': count, 'no_searches': no_searches, 'init_count': btree_init_count})\n",
    "    calculated_results.append(results)\n",
    "    try:\n",
    "        utils.dump_results_to_csv(results, f'btree-{name}-results-latest.csv')\n",
    "    except Exception:\n",
    "        pass"
   ]
  },
  {
   "cell_type": "markdown",
   "id": "7a9557fd-9f69-48bd-8c89-ad0fbc6220e2",
   "metadata": {
    "tags": []
   },
   "source": [
    "## Beyond Data structures\n"
   ]
  },
  {
   "cell_type": "code",
   "execution_count": null,
   "id": "72e5d8fa-a0a6-4d89-90bd-5dfd81175dfe",
   "metadata": {},
   "outputs": [],
   "source": [
    "%matplotlib widget\n",
    "fig, ax = utils.interactive_plot()"
   ]
  },
  {
   "cell_type": "code",
   "execution_count": null,
   "id": "8ab2242c-a315-48b7-a280-96c1e7e4c7ad",
   "metadata": {},
   "outputs": [],
   "source": [
    "data_structures = [\n",
    "    {'name': 'datalog-sequential', 'label': 'datalog-sequential', 'title': 'Datalog (Sequential)'},\n",
    "    {'name': 'datalog-coarse', 'label': 'datalog-coarse', 'title': 'Datalog (Coarse grained)'},\n",
    "     {'name': 'datalog-batched', 'label': 'datalog-batched', 'title': 'Datalog (Batched)'},\n",
    "    {'name': 'datalog-non-parallel-batched', 'label': 'datalog-non-parallel-batched', 'title': 'Datalog (Batched,No par-search)'}\n",
    "]\n",
    "_,  results = utils.build_interactive_plot(fig, ax, data_structures, {'no_iters':10, 'no_warmup': 1, 'graph_nodes': 200, 'count': 10_000, 'no_searches': 90_000,  'init_count': 30_000})"
   ]
  }
 ],
 "metadata": {
  "kernelspec": {
   "display_name": "Python 3 (ipykernel)",
   "language": "python",
   "name": "python3"
  },
  "language_info": {
   "codemirror_mode": {
    "name": "ipython",
    "version": 3
   },
   "file_extension": ".py",
   "mimetype": "text/x-python",
   "name": "python",
   "nbconvert_exporter": "python",
   "pygments_lexer": "ipython3",
   "version": "3.9.13"
  },
  "vscode": {
   "interpreter": {
    "hash": "b0fa6594d8f4cbf19f97940f81e996739fb7646882a419484c72d19e05852a7e"
   }
  }
 },
 "nbformat": 4,
 "nbformat_minor": 5
}
