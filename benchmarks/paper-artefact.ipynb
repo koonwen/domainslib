{
 "cells": [
  {
   "cell_type": "code",
   "execution_count": null,
   "id": "38d8b2e7-0b69-4039-a6ed-6089fed342a0",
   "metadata": {},
   "outputs": [],
   "source": [
    "import pandas as pd\n",
    "import matplotlib.pyplot as plt\n",
    "from tqdm.notebook import tqdm"
   ]
  },
  {
   "cell_type": "code",
   "execution_count": null,
   "id": "0429cafd-ef15-4eea-9cfc-c5874b5f5255",
   "metadata": {},
   "outputs": [],
   "source": [
    "from importlib import reload\n",
    "import utils\n",
    "reload(utils)"
   ]
  },
  {
   "attachments": {},
   "cell_type": "markdown",
   "id": "d095c8fa",
   "metadata": {},
   "source": [
    "## Skiplist\n",
    "We declare the parameters for the skip list as follows:"
   ]
  },
  {
   "cell_type": "code",
   "execution_count": null,
   "id": "18ccc5a8",
   "metadata": {},
   "outputs": [],
   "source": [
    "skiplist_init_count = 2_000_000"
   ]
  },
  {
   "attachments": {},
   "cell_type": "markdown",
   "id": "4e94c335",
   "metadata": {},
   "source": [
    "We define a utility function to dump results:"
   ]
  },
  {
   "cell_type": "code",
   "execution_count": null,
   "id": "95d06e66",
   "metadata": {},
   "outputs": [],
   "source": [
    "import csv\n",
    "def dump_results_to_file(file, results):\n",
    "    with open(file, 'w', newline='') as csvfile:\n",
    "        fieldnames = [\n",
    "        'domains', \n",
    "        'skiplist-sequential', # 'skiplist-sequential-sd',\n",
    "        'skiplist-batched', 'skiplist-batched-sd',\n",
    "        'skiplist-coarse', 'skiplist-coarse-sd',\n",
    "        'set-coarse', 'set-coarse-sd'\n",
    "        'skiplist-fine', 'skiplist-fine-sd',\n",
    "        ]\n",
    "        writer = csv.DictWriter(csvfile, fieldnames=fieldnames, extrasaction='ignore')\n",
    "        writer.writeheader()\n",
    "        sequential_time = None\n",
    "        for result in results:\n",
    "            if not sequential_time:\n",
    "                sequential_time = result['skiplist-sequential']\n",
    "            result = result.copy()\n",
    "            result['skiplist-sequential'] = sequential_time\n",
    "            writer.writerow(result)"
   ]
  },
  {
   "attachments": {},
   "cell_type": "markdown",
   "id": "01963e09",
   "metadata": {},
   "source": [
    "## Inserts\n",
    "We will evaluate the performance of the skip list as we change the number of cores:"
   ]
  },
  {
   "cell_type": "code",
   "execution_count": null,
   "id": "5809cfbf",
   "metadata": {},
   "outputs": [],
   "source": [
    "%matplotlib widget\n",
    "fig, ax = utils.interactive_plot()"
   ]
  },
  {
   "cell_type": "code",
   "execution_count": null,
   "id": "93beba62",
   "metadata": {},
   "outputs": [],
   "source": [
    "data_structures = [\n",
    "    {'name': 'skiplist-sequential', 'label': 'skiplist-sequential', 'title': 'Skiplist (Sequential)'},\n",
    "    {'name': 'skiplist-batched', 'label': 'skiplist-batched', 'title': 'Skiplist (Batched)'},\n",
    "     {'name': 'skiplist-coarse', 'label': 'skiplist-coarse', 'title': 'Skiplist (Coarse grained)'},\n",
    "    {'name': 'set-coarse-grained', 'label': 'set-coarse', 'title': 'Vanilla Set (Coarse grained)'},\n",
    "    {'name': 'skiplist-fine', 'label': 'skiplist-fine', 'title': 'Skiplist (Fine Grained)'}\n",
    "]\n",
    "\n",
    "_,  results = utils.build_interactive_plot(fig, ax, data_structures,       \n",
    "    {'count': 100, 'init_count': skiplist_init_count})"
   ]
  },
  {
   "cell_type": "code",
   "execution_count": null,
   "id": "6580b9a0",
   "metadata": {},
   "outputs": [],
   "source": [
    "import csv\n",
    "insert_results = results\n",
    "with open('insert-results.csv', 'w', newline='') as csvfile:\n",
    "    fieldnames = [\n",
    "        'domains', \n",
    "        'skiplist-sequential', # 'skiplist-sequential-sd',\n",
    "        'skiplist-batched', 'skiplist-batched-sd',\n",
    "        'skiplist-coarse', 'skiplist-coarse-sd',\n",
    "        'set-coarse', 'set-coarse-sd',\n",
    "        'skiplist-fine', 'skiplist-fine-sd'\n",
    "    ]\n",
    "    writer = csv.DictWriter(csvfile, fieldnames=fieldnames, extrasaction='ignore')\n",
    "    writer.writeheader()\n",
    "    sequential_time = None\n",
    "    for result in results:\n",
    "        if not sequential_time:\n",
    "            sequential_time = result['skiplist-sequential']\n",
    "        result = result.copy()\n",
    "        result['skiplist-sequential'] = sequential_time\n",
    "        writer.writerow(result)"
   ]
  },
  {
   "attachments": {},
   "cell_type": "markdown",
   "id": "23540030",
   "metadata": {},
   "source": [
    "### Searches\n",
    "\n",
    "We evaluate the performance of searches as well as we change the number of cores"
   ]
  },
  {
   "cell_type": "code",
   "execution_count": null,
   "id": "09c3e01c",
   "metadata": {},
   "outputs": [],
   "source": [
    "%matplotlib widget\n",
    "fig, ax = utils.interactive_plot()"
   ]
  },
  {
   "cell_type": "code",
   "execution_count": null,
   "id": "fc4ea9c3",
   "metadata": {},
   "outputs": [],
   "source": [
    "data_structures = [\n",
    "    {'name': 'skiplist-sequential', 'label': 'skiplist-sequential', 'title': 'Skiplist (Sequential)'},\n",
    "    {'name': 'skiplist-batched', 'label': 'skiplist-batched', 'title': 'Skiplist (Batched)'},\n",
    "     {'name': 'skiplist-coarse', 'label': 'skiplist-coarse', 'title': 'Skiplist (Coarse grained)'},\n",
    "    {'name': 'set-coarse-grained', 'label': 'set-coarse', 'title': 'Vanilla Set (Coarse grained)'},\n",
    "    {'name': 'skiplist-fine', 'label': 'skiplist-fine', 'title': 'Skiplist (Fine Grained)'}\n",
    "]\n",
    "\n",
    "_,  results = utils.build_interactive_plot(fig, ax, data_structures, {'count': 0, 'no_searches': 1_000_000, 'init_count': skiplist_init_count})"
   ]
  },
  {
   "cell_type": "code",
   "execution_count": null,
   "id": "aafae220",
   "metadata": {},
   "outputs": [],
   "source": [
    "import csv\n",
    "search_results = results\n",
    "with open('search-results.csv', 'w', newline='') as csvfile:\n",
    "    fieldnames = [\n",
    "        'domains', \n",
    "        'skiplist-sequential', # 'skiplist-sequential-sd',\n",
    "        'skiplist-batched', 'skiplist-batched-sd',\n",
    "        'skiplist-coarse', 'skiplist-coarse-sd',\n",
    "        'set-coarse', 'set-coarse-sd',\n",
    "        'skiplist-fine', 'skiplist-fine-sd'\n",
    "    ]\n",
    "    writer = csv.DictWriter(csvfile, fieldnames=fieldnames, extrasaction='ignore')\n",
    "    writer.writeheader()\n",
    "    sequential_time = None\n",
    "    for result in results:\n",
    "        if not sequential_time:\n",
    "            sequential_time = result['skiplist-sequential']\n",
    "        result = result.copy()\n",
    "        result['skiplist-sequential'] = sequential_time\n",
    "        writer.writerow(result)"
   ]
  },
  {
   "cell_type": "markdown",
   "id": "6a03f650-29ac-4bc9-b94f-91791fb3cf11",
   "metadata": {
    "tags": []
   },
   "source": [
    "## Btree\n",
    "\n",
    "We declare the parameters for the B-tree as follows:"
   ]
  },
  {
   "cell_type": "code",
   "execution_count": null,
   "id": "b302dd0d-007e-4c1a-98ee-9cfb0da8f8d5",
   "metadata": {},
   "outputs": [],
   "source": [
    "btree_branching_factor = 6\n",
    "btree_init_count = 2_000_000"
   ]
  },
  {
   "cell_type": "markdown",
   "id": "316de9e2-400a-4bbc-9bb0-2b002fdfd2a5",
   "metadata": {},
   "source": [
    "We define a utility function to dump results:"
   ]
  },
  {
   "cell_type": "code",
   "execution_count": null,
   "id": "91a456d6-14e9-4afb-b395-3161e75645ae",
   "metadata": {},
   "outputs": [],
   "source": [
    "import csv\n",
    "def dump_results_to_file(file, results):\n",
    "    with open(file, 'w', newline='') as csvfile:\n",
    "        fieldnames = [\n",
    "        'domains', \n",
    "        'btree-sequential', # 'btree-sequential-sd',\n",
    "        'btree-batched', 'btree-batched-sd',\n",
    "        'btree-coarse', 'btree-coarse-sd',\n",
    "        'map-coarse', 'map-coarse-sd'\n",
    "        ]\n",
    "        writer = csv.DictWriter(csvfile, fieldnames=fieldnames, extrasaction='ignore')\n",
    "        writer.writeheader()\n",
    "        sequential_time = None\n",
    "        for result in results:\n",
    "            if not sequential_time:\n",
    "                sequential_time = result['btree-sequential']\n",
    "            result = result.copy()\n",
    "            result['btree-sequential'] = sequential_time\n",
    "            writer.writerow(result)"
   ]
  },
  {
   "cell_type": "markdown",
   "id": "3c1431c6-d0e9-4b4f-81d4-69b2974581ee",
   "metadata": {
    "jp-MarkdownHeadingCollapsed": true,
    "tags": []
   },
   "source": [
    "### Inserts\n",
    "\n",
    "We will evaluate the performance of the B-tree as we change the number of cores:"
   ]
  },
  {
   "cell_type": "code",
   "execution_count": null,
   "id": "14c3881e-3a61-417d-a11d-8bbbf73827ae",
   "metadata": {},
   "outputs": [],
   "source": [
    "%matplotlib widget\n",
    "fig, ax = utils.interactive_plot()"
   ]
  },
  {
   "cell_type": "code",
   "execution_count": null,
   "id": "4c9d6d31-5893-4854-a709-ce659c311493",
   "metadata": {},
   "outputs": [],
   "source": [
    "data_structures = [\n",
    "    {'name': 'btree-sequential', 'label':'btree-sequential', 'title': 'B-tree (Sequential)', 'branching_factor': btree_branching_factor},\n",
    "    {'name': 'btree-batched', 'label': 'btree-batched', 'title': 'B-tree (Batched)', 'branching_factor': btree_branching_factor},\n",
    "    {'name': 'btree-coarse', 'label': 'btree-coarse', 'title': 'B-tree (Coarse-grained)', 'branching_factor': btree_branching_factor},\n",
    "    {'name': 'map-coarse', 'label': 'map-coarse', 'title': 'Map (Coarse-grained)' }\n",
    "]\n",
    "\n",
    "_,  results = utils.build_interactive_plot(fig, ax, data_structures, {'count': 100, 'init_count': btree_init_count})"
   ]
  },
  {
   "cell_type": "code",
   "execution_count": null,
   "id": "82f73470-6baf-41a8-a9e7-3f2f1c81b6ba",
   "metadata": {},
   "outputs": [],
   "source": [
    "import csv\n",
    "insert_results = results\n",
    "with open('insert-results.csv', 'w', newline='') as csvfile:\n",
    "    fieldnames = [\n",
    "        'domains', \n",
    "        'btree-sequential', # 'btree-sequential-sd',\n",
    "        'btree-batched', 'btree-batched-sd',\n",
    "        'btree-coarse', 'btree-coarse-sd',\n",
    "        'map-coarse', 'map-coarse-sd'\n",
    "    ]\n",
    "    writer = csv.DictWriter(csvfile, fieldnames=fieldnames, extrasaction='ignore')\n",
    "    writer.writeheader()\n",
    "    sequential_time = None\n",
    "    for result in results:\n",
    "        if not sequential_time:\n",
    "            sequential_time = result['btree-sequential']\n",
    "        result = result.copy()\n",
    "        result['btree-sequential'] = sequential_time\n",
    "        writer.writerow(result)"
   ]
  },
  {
   "cell_type": "markdown",
   "id": "5fb2cd85-2805-4fc2-abb6-7cf8cc7608de",
   "metadata": {
    "tags": []
   },
   "source": [
    "### Searches\n",
    "\n",
    "We evaluate the performance of searches as well as we change the number of cores"
   ]
  },
  {
   "cell_type": "code",
   "execution_count": null,
   "id": "2d82c7eb-f94e-49d0-bd1b-b69fbc0ea13b",
   "metadata": {},
   "outputs": [],
   "source": [
    "%matplotlib widget\n",
    "fig, ax = utils.interactive_plot()"
   ]
  },
  {
   "cell_type": "code",
   "execution_count": null,
   "id": "94033c0e-2a24-4478-8aee-04e9aeced0de",
   "metadata": {},
   "outputs": [],
   "source": [
    "data_structures = [\n",
    "    {'name': 'btree-sequential', 'label':'btree-sequential', 'title': 'B-tree (Sequential)', 'branching_factor': btree_branching_factor},\n",
    "    {'name': 'btree-batched', 'label': 'btree-batched', 'title': 'B-tree (Batched)', 'branching_factor': btree_branching_factor},\n",
    "    {'name': 'btree-coarse', 'label': 'btree-coarse', 'title': 'B-tree (Coarse-grained)', 'branching_factor': btree_branching_factor},\n",
    "    {'name': 'map-coarse', 'label': 'map-coarse', 'title': 'Map (Coarse-grained)' }\n",
    "]\n",
    "\n",
    "_,  results = utils.build_interactive_plot(fig, ax, data_structures, {'count': 0, 'no_searches': 1_000_000, 'init_count': btree_init_count})"
   ]
  },
  {
   "cell_type": "code",
   "execution_count": null,
   "id": "34390c15-c8b2-47e2-8f75-d2fdc43c07bd",
   "metadata": {},
   "outputs": [],
   "source": [
    "import csv\n",
    "search_results = results\n",
    "with open('search-results.csv', 'w', newline='') as csvfile:\n",
    "    fieldnames = [\n",
    "        'domains', \n",
    "        'btree-sequential', # 'btree-sequential-sd',\n",
    "        'btree-batched', 'btree-batched-sd',\n",
    "        'btree-coarse', 'btree-coarse-sd',\n",
    "        'map-coarse', 'map-coarse-sd'\n",
    "    ]\n",
    "    writer = csv.DictWriter(csvfile, fieldnames=fieldnames, extrasaction='ignore')\n",
    "    writer.writeheader()\n",
    "    sequential_time = None\n",
    "    for result in results:\n",
    "        if not sequential_time:\n",
    "            sequential_time = result['btree-sequential']\n",
    "        result = result.copy()\n",
    "        result['btree-sequential'] = sequential_time\n",
    "        writer.writerow(result)"
   ]
  },
  {
   "cell_type": "markdown",
   "id": "cef63fe8-7bde-4c70-985c-a237086b0411",
   "metadata": {},
   "source": [
    "### Diverse Workloads\n",
    "\n",
    "Ilya suggests\n",
    "\n",
    "- 90% reads \n",
    "- 50% reads"
   ]
  },
  {
   "cell_type": "code",
   "execution_count": null,
   "id": "5d828e9c-a3aa-401b-80e9-655effdf9ad9",
   "metadata": {},
   "outputs": [],
   "source": [
    "majority_reads_searches, majority_reads_inserts = int(0.9 * 1_000_000), int(0.1 * 1_000_000)\n",
    "equal_reads_searches, equal_reads_inserts = int(0.5 * 1_000_000), int(0.5 * 1_000_000)"
   ]
  },
  {
   "cell_type": "code",
   "execution_count": null,
   "id": "93e2a777",
   "metadata": {},
   "outputs": [],
   "source": [
    "data_structures = [\n",
    "    {'name': 'skiplist-sequential', 'label': 'skiplist-sequential', 'title': 'Skiplist (Sequential)'},\n",
    "    {'name': 'skiplist-batched', 'label': 'skiplist-batched', 'title': 'Skiplist (Batched)'},\n",
    "     {'name': 'skiplist-coarse', 'label': 'skiplist-coarse', 'title': 'Skiplist (Coarse grained)'},\n",
    "    {'name': 'set-coarse-grained', 'label': 'set-coarse', 'title': 'Vanilla Set (Coarse grained)'},\n",
    "    {'name': 'skiplist-lazy', 'label': 'skiplist-lazy', 'title': 'Skiplist (Fine Grained)'}\n",
    "]\n",
    "\n",
    "majority_reads_results = utils.build_results(data_structures, {'count': majority_reads_inserts, 'no_searches': majority_reads_searches, 'init_count': btree_init_count})\n",
    "\n",
    "equal_reads_results = utils.build_results(data_structures, {'count': equal_reads_inserts, 'no_searches': equal_reads_searches, 'init_count': btree_init_count})"
   ]
  },
  {
   "cell_type": "code",
   "execution_count": null,
   "id": "3898b223",
   "metadata": {},
   "outputs": [],
   "source": [
    "dump_results_to_file('skiplist-majority-reads.csv', majority_reads_results)"
   ]
  },
  {
   "cell_type": "code",
   "execution_count": null,
   "id": "734d95ff",
   "metadata": {},
   "outputs": [],
   "source": [
    "dump_results_to_file('skiplist-equal-reads.csv', equal_reads_results)"
   ]
  },
  {
   "cell_type": "code",
   "execution_count": null,
   "id": "86a9a88a-a8e0-4e8e-81df-63787b4e60ab",
   "metadata": {},
   "outputs": [],
   "source": [
    "data_structures = [\n",
    "    {'name': 'btree-sequential', 'label':'btree-sequential', 'title': 'B-tree (Sequential)', 'branching_factor': btree_branching_factor},\n",
    "    {'name': 'btree-batched', 'label': 'btree-batched', 'title': 'B-tree (Batched)', 'branching_factor': btree_branching_factor},\n",
    "    {'name': 'btree-coarse', 'label': 'btree-coarse', 'title': 'B-tree (Coarse-grained)', 'branching_factor': btree_branching_factor},\n",
    "    {'name': 'map-coarse', 'label': 'map-coarse', 'title': 'Map (Coarse-grained)' }\n",
    "]\n",
    "\n",
    "majority_reads_results = utils.build_results(data_structures, {'count': majority_reads_inserts, 'no_searches': majority_reads_searches, 'init_count': btree_init_count})\n",
    "\n",
    "equal_reads_results = utils.build_results(data_structures, {'count': equal_reads_inserts, 'no_searches': equal_reads_searches, 'init_count': btree_init_count})"
   ]
  },
  {
   "cell_type": "code",
   "execution_count": null,
   "id": "5b38b804-a7aa-4021-a6c3-ee38f0bcf88e",
   "metadata": {},
   "outputs": [],
   "source": [
    "dump_results_to_file('btree-majority-reads.csv', majority_reads_results)"
   ]
  },
  {
   "cell_type": "code",
   "execution_count": null,
   "id": "4085f58e-cc39-4f15-9e9b-cbad53c53cdd",
   "metadata": {},
   "outputs": [],
   "source": [
    "dump_results_to_file('btree-equal-reads.csv', equal_reads_results)"
   ]
  }
 ],
 "metadata": {
  "kernelspec": {
   "display_name": "Python 3",
   "language": "python",
   "name": "python3"
  },
  "language_info": {
   "codemirror_mode": {
    "name": "ipython",
    "version": 3
   },
   "file_extension": ".py",
   "mimetype": "text/x-python",
   "name": "python",
   "nbconvert_exporter": "python",
   "pygments_lexer": "ipython3",
   "version": "3.10.9"
  },
  "vscode": {
   "interpreter": {
    "hash": "b0fa6594d8f4cbf19f97940f81e996739fb7646882a419484c72d19e05852a7e"
   }
  }
 },
 "nbformat": 4,
 "nbformat_minor": 5
}
